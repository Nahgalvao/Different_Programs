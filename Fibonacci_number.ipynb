{
  "nbformat": 4,
  "nbformat_minor": 0,
  "metadata": {
    "colab": {
      "provenance": [],
      "authorship_tag": "ABX9TyP5Q3NvJKz63sljzuFXmQ71",
      "include_colab_link": true
    },
    "kernelspec": {
      "name": "python3",
      "display_name": "Python 3"
    },
    "language_info": {
      "name": "python"
    }
  },
  "cells": [
    {
      "cell_type": "markdown",
      "metadata": {
        "id": "view-in-github",
        "colab_type": "text"
      },
      "source": [
        "<a href=\"https://colab.research.google.com/github/Nahgalvao/Different_Programs/blob/main/Fibonacci_number.ipynb\" target=\"_parent\"><img src=\"https://colab.research.google.com/assets/colab-badge.svg\" alt=\"Open In Colab\"/></a>"
      ]
    },
    {
      "cell_type": "markdown",
      "source": [
        "#Fibonacci number"
      ],
      "metadata": {
        "id": "0RagRo71scYH"
      }
    },
    {
      "cell_type": "code",
      "execution_count": null,
      "metadata": {
        "id": "EpeKJSEJsY_m"
      },
      "outputs": [],
      "source": [
        "def Fib(n):\n",
        "  if n<= 2:\n",
        "    return 1\n",
        "  else:\n",
        "    return Fib(n-1) + Fib(n-2)"
      ]
    },
    {
      "cell_type": "code",
      "source": [
        "Fib(38)"
      ],
      "metadata": {
        "colab": {
          "base_uri": "https://localhost:8080/"
        },
        "id": "boGbgYTPsiXO",
        "outputId": "709e334a-3815-48e0-e055-debbd9b2a2ce"
      },
      "execution_count": null,
      "outputs": [
        {
          "output_type": "execute_result",
          "data": {
            "text/plain": [
              "39088169"
            ]
          },
          "metadata": {},
          "execution_count": 2
        }
      ]
    },
    {
      "cell_type": "code",
      "source": [
        "def Fib2(n):\n",
        "\n",
        "  f = [0, 1]\n",
        "\n",
        "  for i in range(2, n+1):\n",
        "      f.append(f[i-1]+ f[i-2])\n",
        "  print(f)\n",
        "  return f[n]"
      ],
      "metadata": {
        "id": "UbgFTXmCskpO"
      },
      "execution_count": null,
      "outputs": []
    },
    {
      "cell_type": "code",
      "source": [
        "def Fib2(n):\n",
        "\n",
        "  f = [0, 1]\n",
        "\n",
        "  for i in range(2, n+1):\n",
        "      f.append(f[i-1]+ f[i-2])\n",
        "  print(f)\n",
        "  return f[n]"
      ],
      "metadata": {
        "id": "7q95nkR0ssDi"
      },
      "execution_count": null,
      "outputs": []
    },
    {
      "cell_type": "code",
      "source": [
        "Fib2(38)"
      ],
      "metadata": {
        "colab": {
          "base_uri": "https://localhost:8080/"
        },
        "id": "8fvJU007s_W5",
        "outputId": "768a361f-1614-4d12-f4b5-f808a0ab035a"
      },
      "execution_count": null,
      "outputs": [
        {
          "output_type": "stream",
          "name": "stdout",
          "text": [
            "[0, 1, 1, 2, 3, 5, 8, 13, 21, 34, 55, 89, 144, 233, 377, 610, 987, 1597, 2584, 4181, 6765, 10946, 17711, 28657, 46368, 75025, 121393, 196418, 317811, 514229, 832040, 1346269, 2178309, 3524578, 5702887, 9227465, 14930352, 24157817, 39088169]\n"
          ]
        },
        {
          "output_type": "execute_result",
          "data": {
            "text/plain": [
              "39088169"
            ]
          },
          "metadata": {},
          "execution_count": 5
        }
      ]
    },
    {
      "cell_type": "code",
      "source": [],
      "metadata": {
        "id": "H6gaK2fBtGXS"
      },
      "execution_count": null,
      "outputs": []
    }
  ]
}