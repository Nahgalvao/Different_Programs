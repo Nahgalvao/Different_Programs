{
  "nbformat": 4,
  "nbformat_minor": 0,
  "metadata": {
    "colab": {
      "provenance": [],
      "authorship_tag": "ABX9TyN7f0jVrq00zzyTDC27GGMp",
      "include_colab_link": true
    },
    "kernelspec": {
      "name": "python3",
      "display_name": "Python 3"
    },
    "language_info": {
      "name": "python"
    }
  },
  "cells": [
    {
      "cell_type": "markdown",
      "metadata": {
        "id": "view-in-github",
        "colab_type": "text"
      },
      "source": [
        "<a href=\"https://colab.research.google.com/github/Nahgalvao/Different_Programs/blob/main/Password_generator.ipynb\" target=\"_parent\"><img src=\"https://colab.research.google.com/assets/colab-badge.svg\" alt=\"Open In Colab\"/></a>"
      ]
    },
    {
      "cell_type": "markdown",
      "source": [
        "#Password Generator"
      ],
      "metadata": {
        "id": "nDeM5I8h-aNp"
      }
    },
    {
      "cell_type": "markdown",
      "source": [
        "##a) number of characters = 4 to 20;\n",
        "##b) Uppercase, lowercase, special characters and numbers;"
      ],
      "metadata": {
        "id": "427hTvAJ_4O8"
      }
    },
    {
      "cell_type": "markdown",
      "source": [
        "https://www.thepythoncode.com/article/make-a-password-generator-in-python"
      ],
      "metadata": {
        "id": "cgqVywal__9r"
      }
    },
    {
      "cell_type": "code",
      "source": [
        "#Ask the user for the length of the password (4 to 20 characters) and what type of password\n",
        "\n",
        "print(70*'_')\n",
        "print('This is a password generator that will generate 4 to 20 characters')\n",
        "print(\"Choose the number of characters in your password and what type\")\n",
        "print(70*'_')\n",
        "int(input(\"How many characters is the password? (4 to 20)\"))"
      ],
      "metadata": {
        "colab": {
          "base_uri": "https://localhost:8080/"
        },
        "id": "NQ1X9_4J-cIv",
        "outputId": "608894d9-f187-4410-fcc3-bae1130e776a"
      },
      "execution_count": null,
      "outputs": [
        {
          "name": "stdout",
          "output_type": "stream",
          "text": [
            "______________________________________________________________________\n",
            "This is a password generator that will generate 4 to 20 characters\n",
            "Choose the number of characters in your password and what type\n",
            "______________________________________________________________________\n",
            "How many characters is the password? (4 to 20)5\n"
          ]
        },
        {
          "output_type": "execute_result",
          "data": {
            "text/plain": [
              "5"
            ]
          },
          "metadata": {},
          "execution_count": 2
        }
      ]
    },
    {
      "cell_type": "markdown",
      "source": [
        "##Importing string library"
      ],
      "metadata": {
        "id": "7X5ztdbmAL2f"
      }
    },
    {
      "cell_type": "code",
      "source": [
        "print(70*'_')\n",
        "print('This is a password generator that will generate 4 to 20 characters')\n",
        "print(\"Choose the number of characters in your password and what type\")\n",
        "print(70*'_')\n",
        "size = int(input(\"how many characters is the password? (4 to 20)\"))\n",
        "print(size)\n",
        "\n",
        "import string # importing library\n",
        "\n",
        "letter_min = string.ascii_lowercase\n",
        "print(letter_min)\n",
        "mai_letter = string.ascii_uppercase\n",
        "print(mai_letter)\n",
        "print(type(mai_letter))"
      ],
      "metadata": {
        "id": "tpcmpVm3-oOI",
        "colab": {
          "base_uri": "https://localhost:8080/"
        },
        "outputId": "d5cf04de-c399-413d-8083-0406fd8b435e"
      },
      "execution_count": null,
      "outputs": [
        {
          "output_type": "stream",
          "name": "stdout",
          "text": [
            "______________________________________________________________________\n",
            "This is a password generator that will generate 4 to 20 characters\n",
            "Choose the number of characters in your password and what type\n",
            "______________________________________________________________________\n",
            "how many characters is the password? (4 to 20)17\n",
            "17\n",
            "abcdefghijklmnopqrstuvwxyz\n",
            "ABCDEFGHIJKLMNOPQRSTUVWXYZ\n",
            "<class 'str'>\n"
          ]
        }
      ]
    },
    {
      "cell_type": "code",
      "source": [
        "print(70*'_')\n",
        "print('This is a password generator that will generate 4 to 20 characters')\n",
        "print(\"Choose the number of characters in your password and what type\")\n",
        "print(70*'_')\n",
        "size = int(input(\"how many characters is the password? (4 to 20)\"))\n",
        "print(size)\n",
        "\n",
        "import string\n",
        "\n",
        "letter_min = string.ascii_lowercase\n",
        "print(letter_min)\n",
        "mai_letter = string.ascii_uppercase\n",
        "print(mai_letter)\n",
        "print(type(mai_letter))\n",
        "\n",
        "numbers = string.digits #numbers\n",
        "print(numbers)\n",
        "\n",
        "specials = string.punctuation #characters\n",
        "print(specials)"
      ],
      "metadata": {
        "colab": {
          "base_uri": "https://localhost:8080/"
        },
        "id": "nt0wEaBcASdA",
        "outputId": "4d0848d1-bfe9-421d-bedd-6df556763b16"
      },
      "execution_count": null,
      "outputs": [
        {
          "output_type": "stream",
          "name": "stdout",
          "text": [
            "______________________________________________________________________\n",
            "This is a password generator that will generate 4 to 20 characters\n",
            "Choose the number of characters in your password and what type\n",
            "______________________________________________________________________\n",
            "how many characters is the password? (4 to 20)17\n",
            "17\n",
            "abcdefghijklmnopqrstuvwxyz\n",
            "ABCDEFGHIJKLMNOPQRSTUVWXYZ\n",
            "<class 'str'>\n",
            "0123456789\n",
            "!\"#$%&'()*+,-./:;<=>?@[\\]^_`{|}~\n"
          ]
        }
      ]
    },
    {
      "cell_type": "code",
      "source": [
        "# conditions for choosing password\n",
        "# 1 - lowercase letter\n",
        "# 2 - capital letter\n",
        "# 3 - numbers\n",
        "# 4 - lower case + upper case\n",
        "# 5 - lowercase + uppercase + numbers\n",
        "# 6 - lowercase + uppercase + numbers + special\n",
        "\n",
        "print(80*'_')\n",
        "print('This is a password generator that will generate 4 to 20 characters')\n",
        "print(\"Choose the number of characters in your password and what type\")\n",
        "\n",
        "# to choose the password type\n",
        "\n",
        "print(\"The password type can be chosen from 1 to 6\")\n",
        "print(\"Option 1 - lowercase letters\")\n",
        "print(\"Option 2 - capital letters\")\n",
        "print(\"Option 3 - numbers\")\n",
        "print(\"Option 4 - lowercase letters + uppercase letters\")\n",
        "print(\"Option 5 - lowercase letters + uppercase letters + numbers\")\n",
        "print(\"Option 6 - lowercase letters + uppercase letters + numbers + special characters\")\n",
        "\n",
        "print(80*'_')\n",
        "\n",
        "size = int(input(\"how many characters is the password? (4 to 20)\"))\n",
        "option = int(input(\"What is the password type? (school from 1 to 6)\"))\n",
        "\n",
        "import string\n",
        "\n",
        "min_letter = string.ascii_lowercase\n",
        "mai_letter = string.ascii_uppercase\n",
        "numbers = string.digits\n",
        "specials = string.punctuation\n",
        "\n",
        "if option == 1:\n",
        "   values = min_letter\n",
        "elif option == 2:\n",
        "   values = mai_letter\n",
        "elif option == 3:\n",
        "   values = numbers\n",
        "elif option == 4:\n",
        "   values = min_letter + mai_letter\n",
        "elif option == 5:\n",
        "   values = min_letter + mai_letter + numbers\n",
        "elif option == 6:\n",
        "   values = min_letter + mai_letter + numbers + specials"
      ],
      "metadata": {
        "colab": {
          "base_uri": "https://localhost:8080/"
        },
        "id": "qf26dvMjBP_F",
        "outputId": "d21356aa-9089-41fd-ef0e-72a63b69535c"
      },
      "execution_count": null,
      "outputs": [
        {
          "name": "stdout",
          "output_type": "stream",
          "text": [
            "________________________________________________________________________________\n",
            "This is a password generator that will generate 4 to 20 characters\n",
            "Choose the number of characters in your password and what type\n",
            "The password type can be chosen from 1 to 6\n",
            "Option 1 - lowercase letters\n",
            "Option 2 - capital letters\n",
            "Option 3 - numbers\n",
            "Option 4 - lowercase letters + uppercase letters\n",
            "Option 5 - lowercase letters + uppercase letters + numbers\n",
            "Option 6 - lowercase letters + uppercase letters + numbers + special characters\n",
            "________________________________________________________________________________\n",
            "how many characters is the password? (4 to 20)10\n",
            "What is the password type? (school from 1 to 6)6\n"
          ]
        }
      ]
    },
    {
      "cell_type": "markdown",
      "source": [
        "#Import random library"
      ],
      "metadata": {
        "id": "9_7Q_lHlCGsR"
      }
    },
    {
      "cell_type": "markdown",
      "source": [
        "https://pynative.com/python-random-choice/"
      ],
      "metadata": {
        "id": "33pmlstKCL5c"
      }
    },
    {
      "cell_type": "code",
      "source": [
        "print(80*'_')\n",
        "print('This is a password generator that will generate 4 to 20 characters')\n",
        "print(\"Choose the number of characters in your password and what type\")\n",
        "print(\"The password type can be chosen from 1 to 6\")\n",
        "print(\"Option 1 - lowercase letters\")\n",
        "print(\"Option 2 - capital letters\")\n",
        "print(\"Option 3 - numbers\")\n",
        "print(\"Option 4 - lowercase letters + uppercase letters\")\n",
        "print(\"Option 5 - lowercase letters + uppercase letters + numbers\")\n",
        "print(\"Option 6 - lowercase letters + uppercase letters + numbers + special characters\")\n",
        "print(80*'_')\n",
        "\n",
        "size = int(input(\"how many characters is the password? (4 to 20)\"))\n",
        "option = int(input(\"What is the password type? (school from 1 to 6)\"))\n",
        "\n",
        "import string\n",
        "import random #random library\n",
        "\n",
        "letter_min = string.ascii_lowercase\n",
        "letter_mai = string.ascii_uppercase\n",
        "numbers = string.digits\n",
        "specials = string.punctuation\n",
        "\n",
        "if option == 1:\n",
        "   values = min_letter\n",
        "elif option == 2:\n",
        "   values = mai_letter\n",
        "elif option == 3:\n",
        "   values = numbers\n",
        "elif option == 4:\n",
        "   values = min_letter + mai_letter\n",
        "elif option == 5:\n",
        "   values = min_letter + mai_letter + numbers\n",
        "elif option == 6:\n",
        "   values = min_letter + mai_letter + numbers + specials\n",
        "\n",
        "# Generating the password\n",
        "\n",
        "password = \"\"\n",
        "for i in range(size):\n",
        "   password = password + random.choice(values)\n",
        "\n",
        "print(password)"
      ],
      "metadata": {
        "colab": {
          "base_uri": "https://localhost:8080/"
        },
        "id": "buthPYVoBw_j",
        "outputId": "b624d182-c598-444d-d6d7-f8ccfffc509a"
      },
      "execution_count": null,
      "outputs": [
        {
          "output_type": "stream",
          "name": "stdout",
          "text": [
            "________________________________________________________________________________\n",
            "This is a password generator that will generate 4 to 20 characters\n",
            "Choose the number of characters in your password and what type\n",
            "The password type can be chosen from 1 to 6\n",
            "Option 1 - lowercase letters\n",
            "Option 2 - capital letters\n",
            "Option 3 - numbers\n",
            "Option 4 - lowercase letters + uppercase letters\n",
            "Option 5 - lowercase letters + uppercase letters + numbers\n",
            "Option 6 - lowercase letters + uppercase letters + numbers + special characters\n",
            "________________________________________________________________________________\n",
            "how many characters is the password? (4 to 20)10\n",
            "What is the password type? (school from 1 to 6)6\n",
            "^q+<B$CLT^\n"
          ]
        }
      ]
    },
    {
      "cell_type": "markdown",
      "source": [
        "#seed():\n",
        "##\"fixes\" my randomization ensuring that the sample randomized to A will be the same sample randomized to B which guarantees me a fair comparison."
      ],
      "metadata": {
        "id": "rw9gru5-DKPJ"
      }
    },
    {
      "cell_type": "code",
      "source": [
        "print(80*'_')\n",
        "print('This is a password generator that will generate 4 to 20 characters')\n",
        "print(\"Choose the number of characters in your password and what type\")\n",
        "print(\"The password type can be chosen from 1 to 6\")\n",
        "print(\"Option 1 - lowercase letters\")\n",
        "print(\"Option 2 - capital letters\")\n",
        "print(\"Option 3 - numbers\")\n",
        "print(\"Option 4 - lowercase letters + uppercase letters\")\n",
        "print(\"Option 5 - lowercase letters + uppercase letters + numbers\")\n",
        "print(\"Option 6 - lowercase letters + uppercase letters + numbers + special characters\")\n",
        "print(80*'_')\n",
        "\n",
        "size = int(input(\"how many characters is the password? (4 to 20)\"))\n",
        "option = int(input(\"What is the password type? (school from 1 to 6)\"))\n",
        "\n",
        "\n",
        "import string\n",
        "import random\n",
        "\n",
        "random.seed(1234)      #seed()     \n",
        "\n",
        "letter_min = string.ascii_lowercase\n",
        "letter_mai = string.ascii_uppercase\n",
        "numbers = string.digits\n",
        "specials = string.punctuation\n",
        "\n",
        "if option == 1:\n",
        "   values = min_letter\n",
        "elif option == 2:\n",
        "   values = mai_letter\n",
        "elif option == 3:\n",
        "   values = numbers\n",
        "elif option == 4:\n",
        "   values = min_letter + mai_letter\n",
        "elif option == 5:\n",
        "   values = min_letter + mai_letter + numbers\n",
        "elif option == 6:\n",
        "   values = min_letter + mai_letter + numbers + specials\n",
        "\n",
        "# Generating the password\n",
        "\n",
        "password = \"\"\n",
        "for i in range(size):\n",
        "   password = password + random.choice(values)\n",
        "\n",
        "print(password)"
      ],
      "metadata": {
        "colab": {
          "base_uri": "https://localhost:8080/"
        },
        "id": "V4i7m86kCRxs",
        "outputId": "fe31ff3b-914a-4acf-9305-f25c3d115638"
      },
      "execution_count": null,
      "outputs": [
        {
          "output_type": "stream",
          "name": "stdout",
          "text": [
            "________________________________________________________________________________\n",
            "This is a password generator that will generate 4 to 20 characters\n",
            "Choose the number of characters in your password and what type\n",
            "The password type can be chosen from 1 to 6\n",
            "Option 1 - lowercase letters\n",
            "Option 2 - capital letters\n",
            "Option 3 - numbers\n",
            "Option 4 - lowercase letters + uppercase letters\n",
            "Option 5 - lowercase letters + uppercase letters + numbers\n",
            "Option 6 - lowercase letters + uppercase letters + numbers + special characters\n",
            "________________________________________________________________________________\n",
            "how many characters is the password? (4 to 20)6\n",
            "What is the password type? (school from 1 to 6)6\n",
            "4oal-e\n"
          ]
        }
      ]
    },
    {
      "cell_type": "markdown",
      "source": [
        "#TKinter\n",
        "\n",
        "##https://docs.python.org/3/library/tkinter.html#"
      ],
      "metadata": {
        "id": "eKdVrPgRD6dF"
      }
    },
    {
      "cell_type": "code",
      "source": [
        "https://docs.python.org/3/library/tkinter.html\n",
        "\n",
        "from tkinter import *\n",
        "from tkinter import ttk\n",
        "root = Tk()\n",
        "frm = ttk.Frame(root, padding=10)\n",
        "frm.grid()\n",
        "ttk.Label(frm, text=\"Hello World!\").grid(column=0, row=0)\n",
        "ttk.Button(frm, text=\"Quit\", command=root.destroy).grid(column=1, row=0)\n",
        "root.mainloop()"
      ],
      "metadata": {
        "colab": {
          "base_uri": "https://localhost:8080/",
          "height": 131
        },
        "id": "n3RRTDsMDzPl",
        "outputId": "c9513d31-d9f2-4e38-bd8e-0e9d6d9506f1"
      },
      "execution_count": null,
      "outputs": [
        {
          "output_type": "error",
          "ename": "SyntaxError",
          "evalue": "ignored",
          "traceback": [
            "\u001b[0;36m  File \u001b[0;32m\"<ipython-input-15-1b77b639eae7>\"\u001b[0;36m, line \u001b[0;32m1\u001b[0m\n\u001b[0;31m    https://docs.python.org/3/library/tkinter.html\u001b[0m\n\u001b[0m          ^\u001b[0m\n\u001b[0;31mSyntaxError\u001b[0m\u001b[0;31m:\u001b[0m invalid syntax\n"
          ]
        }
      ]
    },
    {
      "cell_type": "code",
      "source": [],
      "metadata": {
        "id": "RXgojCYZECNH"
      },
      "execution_count": null,
      "outputs": []
    }
  ]
}